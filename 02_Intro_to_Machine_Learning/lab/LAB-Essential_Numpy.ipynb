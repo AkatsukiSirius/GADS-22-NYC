{
 "cells": [
  {
   "cell_type": "markdown",
   "metadata": {},
   "source": [
    "#Basic Numpy"
   ]
  },
  {
   "cell_type": "markdown",
   "metadata": {},
   "source": [
    "##Numpy stands for numerical python"
   ]
  },
  {
   "cell_type": "markdown",
   "metadata": {},
   "source": [
    "####The starring role is played by the \"ndarray\"\n",
    "####The numpy library also provides linear algebra routines\n",
    "####Pandas is built on numpy\n",
    "####There is overlap in what numpy provides, in terms of data analysis capabilities"
   ]
  },
  {
   "cell_type": "code",
   "execution_count": 1,
   "metadata": {
    "collapsed": true
   },
   "outputs": [],
   "source": [
    "#The standard way to import the numpy library\n",
    "import numpy as np"
   ]
  },
  {
   "cell_type": "markdown",
   "metadata": {},
   "source": [
    "#Constructing"
   ]
  },
  {
   "cell_type": "code",
   "execution_count": null,
   "metadata": {
    "collapsed": true
   },
   "outputs": [],
   "source": [
    "#TODO create a python list to hold the following numbers 3, 4.7, 2, 0, 1.2, 1\n",
    "#TODO convert the python list to an ndarry using the \"np.array()\" method"
   ]
  },
  {
   "cell_type": "code",
   "execution_count": null,
   "metadata": {
    "collapsed": true
   },
   "outputs": [],
   "source": [
    "#TODO using the shape attribute print out the shape of the ndarray you created\n",
    "#TODO using the dtype attribute print out the type of the ndarray you created"
   ]
  },
  {
   "cell_type": "code",
   "execution_count": null,
   "metadata": {
    "collapsed": true
   },
   "outputs": [],
   "source": [
    "#TODO create a second list of numbers 2, 3.4, 3.3, 6, 2, 1\n",
    "#TODO in python create a new list which contains the 2 lists of numbers\n",
    "#TODO convert this list of lists into a 2 dimensionl ndarray\n",
    "#TODO confirm the dimensionality of the array using the ndim attribute, also print out the shape and type"
   ]
  },
  {
   "cell_type": "markdown",
   "metadata": {},
   "source": [
    "####There are a number of helper functions to create arrays from scratch"
   ]
  },
  {
   "cell_type": "code",
   "execution_count": null,
   "metadata": {
    "collapsed": true
   },
   "outputs": [],
   "source": [
    "#TODO using the np.zeros and np.ones methods create 4 ndarrays, 2 of type int, 2 of type float \n",
    "#hint: there is a dtype option within the array method that can be used to set the type"
   ]
  },
  {
   "cell_type": "markdown",
   "metadata": {},
   "source": [
    "####It is often necessary to recast data types from one type to another, as we will see with the upcoming exploratory data analysis work"
   ]
  },
  {
   "cell_type": "code",
   "execution_count": 10,
   "metadata": {
    "collapsed": false
   },
   "outputs": [],
   "source": [
    "#TODO using the built in method astype convert one of the numerica arrays into an array of strings\n",
    "#TODO confirm that the new array really is of dtype string"
   ]
  },
  {
   "cell_type": "markdown",
   "metadata": {},
   "source": [
    "##Question: Does astype create a new copy of the array?"
   ]
  },
  {
   "cell_type": "markdown",
   "metadata": {},
   "source": [
    "####Often when you read datasets from file numbers get read as strings"
   ]
  },
  {
   "cell_type": "code",
   "execution_count": null,
   "metadata": {
    "collapsed": true
   },
   "outputs": [],
   "source": [
    "#TODO convert the array of strings back to floats"
   ]
  },
  {
   "cell_type": "code",
   "execution_count": null,
   "metadata": {
    "collapsed": true
   },
   "outputs": [],
   "source": [
    "#TODO what does the np.arange do\n",
    "#TODO create an integer array containing 20 integers, starting at 50 and going up in steps of 2"
   ]
  },
  {
   "cell_type": "markdown",
   "metadata": {},
   "source": [
    "#Vectorization"
   ]
  },
  {
   "cell_type": "code",
   "execution_count": null,
   "metadata": {
    "collapsed": true
   },
   "outputs": [],
   "source": [
    "#TODO create a 2 by 3 array of floats - use the array you created above or create new ones"
   ]
  },
  {
   "cell_type": "code",
   "execution_count": null,
   "metadata": {
    "collapsed": true
   },
   "outputs": [],
   "source": [
    "#TODO produce an array of the squares of all the numbers\n",
    "#TODO produce an array of the sum of all the numbers\n",
    "#TODO produce an array where all the numbers are multiplied by 4.3"
   ]
  },
  {
   "cell_type": "markdown",
   "metadata": {},
   "source": [
    "##Question what is the difference between vectorization and broadcasting"
   ]
  },
  {
   "cell_type": "markdown",
   "metadata": {},
   "source": [
    "#Basic Indexing, Slicing and Dicing"
   ]
  },
  {
   "cell_type": "code",
   "execution_count": null,
   "metadata": {
    "collapsed": true
   },
   "outputs": [],
   "source": [
    "#TODO using the array of 20 integers you created above find:\n",
    "#The 5th element\n",
    "#The 5th to 8th elements inclusive"
   ]
  },
  {
   "cell_type": "code",
   "execution_count": null,
   "metadata": {
    "collapsed": true
   },
   "outputs": [],
   "source": [
    "#TODO multiply the 5th to 8th elements by 5.6\n",
    "#TODO now print the original array in full"
   ]
  },
  {
   "cell_type": "markdown",
   "metadata": {},
   "source": [
    "##Question: What do you notice about the changes you made to the slice?"
   ]
  },
  {
   "cell_type": "code",
   "execution_count": null,
   "metadata": {
    "collapsed": true
   },
   "outputs": [],
   "source": [
    "#TODO This time make a slice by using the 'copy' method\n",
    "#TODO Multiply this by 0.5\n",
    "#TODO print the original array"
   ]
  },
  {
   "cell_type": "markdown",
   "metadata": {},
   "source": [
    "####This is the difference between a view and a copy"
   ]
  },
  {
   "cell_type": "code",
   "execution_count": null,
   "metadata": {
    "collapsed": true
   },
   "outputs": [],
   "source": [
    "#TODO using the array of 20 integers slice the array from the begining to the 10th element\n",
    "#TODO now slice it from the 4th element to the end\n",
    "#TODO assign 32 to all the elements of the slice\n",
    "#TODO print the original array"
   ]
  },
  {
   "cell_type": "markdown",
   "metadata": {},
   "source": [
    "##Sorting"
   ]
  },
  {
   "cell_type": "code",
   "execution_count": 22,
   "metadata": {
    "collapsed": false
   },
   "outputs": [
    {
     "name": "stdout",
     "output_type": "stream",
     "text": [
      "[1 2 4 5 8]\n"
     ]
    }
   ],
   "source": [
    "a = np.array([4, 5, 2, 8, 1])\n",
    "#TODO using the built in sort method to sort this array\n",
    "#TODO confirm the array has been sorted by printing out the array"
   ]
  },
  {
   "cell_type": "code",
   "execution_count": 34,
   "metadata": {
    "collapsed": false
   },
   "outputs": [],
   "source": [
    "a = np.array([[4, 3, 29], [8, 6, 11]])\n",
    "#TODO print the shape of this multi-dimensional array\n",
    "#TODO print the array an sort each row, reprint the array to confirm\n",
    "\n",
    "a = np.array([[4, 3, 29], [8, 6, 11]])\n",
    "#TODO now sort by columns"
   ]
  },
  {
   "cell_type": "markdown",
   "metadata": {},
   "source": [
    "##NP arrays as sets"
   ]
  },
  {
   "cell_type": "code",
   "execution_count": 35,
   "metadata": {
    "collapsed": true
   },
   "outputs": [],
   "source": [
    "names = np.array(['Jim', 'John', 'Bill', 'Tony', 'Jim', 'Bill', 'Daniel', 'Jim'])\n",
    "#TODO print out just the unique names in this nd array"
   ]
  },
  {
   "cell_type": "markdown",
   "metadata": {},
   "source": [
    "#Random Number Generation"
   ]
  },
  {
   "cell_type": "markdown",
   "metadata": {},
   "source": [
    "Here is a linkg to the documentation for the random sampling routines built into numpy http://docs.scipy.org/doc/numpy/reference/routines.random.html#\n",
    "\n",
    "These are incredibly useful and powerful"
   ]
  },
  {
   "cell_type": "code",
   "execution_count": 16,
   "metadata": {
    "collapsed": false
   },
   "outputs": [
    {
     "data": {
      "text/plain": [
       "array([ 0.26390037,  0.45393603,  0.8756755 ,  0.58581299,  0.39711853,\n",
       "        0.84202509,  0.7938514 ,  0.97158642,  0.85151365,  0.48682389])"
      ]
     },
     "execution_count": 16,
     "metadata": {},
     "output_type": "execute_result"
    }
   ],
   "source": [
    "#TODO using np.random.rand create an array of 10 random numbers"
   ]
  },
  {
   "cell_type": "markdown",
   "metadata": {},
   "source": [
    "#Universal Functions"
   ]
  },
  {
   "cell_type": "markdown",
   "metadata": {},
   "source": [
    "####A function that performs elementwise operation on the data in an nddarray."
   ]
  },
  {
   "cell_type": "code",
   "execution_count": null,
   "metadata": {
    "collapsed": true
   },
   "outputs": [],
   "source": [
    "#TODO using the random number array you created above caluclate the following for all the elements of the array:\n",
    "#the square root\n",
    "#the absolute value"
   ]
  },
  {
   "cell_type": "code",
   "execution_count": null,
   "metadata": {
    "collapsed": true
   },
   "outputs": [],
   "source": [
    "#TOD create a boolean array by checking that each element of the array is \"not a number"
   ]
  },
  {
   "cell_type": "markdown",
   "metadata": {},
   "source": [
    "##Mathematical and Statistical Methods"
   ]
  },
  {
   "cell_type": "code",
   "execution_count": null,
   "metadata": {
    "collapsed": true
   },
   "outputs": [],
   "source": [
    "#TODO create an array of 1000 normally distributed numbers (standard normal distribution)"
   ]
  },
  {
   "cell_type": "code",
   "execution_count": 41,
   "metadata": {
    "collapsed": false
   },
   "outputs": [
    {
     "data": {
      "text/plain": [
       "-0.037371497628945732"
      ]
     },
     "execution_count": 41,
     "metadata": {},
     "output_type": "execute_result"
    }
   ],
   "source": [
    "#TODO get the mean, sum, standard deviation, and cumulative sum"
   ]
  },
  {
   "cell_type": "code",
   "execution_count": null,
   "metadata": {
    "collapsed": true
   },
   "outputs": [],
   "source": [
    "##Question: To calculate standard deviation does np.std() use 1/N or 1/(N-1)"
   ]
  },
  {
   "cell_type": "code",
   "execution_count": 53,
   "metadata": {
    "collapsed": false
   },
   "outputs": [],
   "source": [
    "#TODO write no more than 4 lines of code to justify your answer"
   ]
  },
  {
   "cell_type": "markdown",
   "metadata": {},
   "source": [
    "##Meshgrid"
   ]
  },
  {
   "cell_type": "code",
   "execution_count": 78,
   "metadata": {
    "collapsed": false
   },
   "outputs": [
    {
     "name": "stdout",
     "output_type": "stream",
     "text": [
      "points is an array of   3 points: [-1  0  1]\n",
      "the x axis points are\n",
      "[[-1  0  1]\n",
      " [-1  0  1]\n",
      " [-1  0  1]]\n",
      "the y axis points are\n",
      "[[-1 -1 -1]\n",
      " [ 0  0  0]\n",
      " [ 1  1  1]]\n",
      "The individual pairs of points could be generated like this:\n",
      "( -1 , -1 ) ( 0 , -1 ) ( 1 , -1 ) ( -1 , 0 ) ( 0 , 0 ) ( 1 , 0 ) ( -1 , 1 ) ( 0 , 1 ) ( 1 , 1 )\n"
     ]
    }
   ],
   "source": [
    "points = np.arange(-1, 2, 1)\n",
    "print \"points is an array of  \", len(points), \"points:\", points\n",
    "\n",
    "#To create a meshgrid we would therefore need a total of 9 points in a grid, 3 along an x axis and 3 along a y axis\n",
    "x, y = np.meshgrid(points, points)\n",
    "\n",
    "print \"the x axis points are\\n\", x\n",
    "print \"the y axis points are\\n\", y\n",
    "\n",
    "print \"The individual pairs of points could be generated like this:\"\n",
    "\n",
    "for i in np.arange(len(points)):\n",
    "    for j in np.arange(len(points)):\n",
    "        print \"(\", x[i][j], \",\", y[i][j], \")\","
   ]
  },
  {
   "cell_type": "markdown",
   "metadata": {},
   "source": [
    "####Meshgrad is useful for 3d plotting"
   ]
  }
 ],
 "metadata": {
  "kernelspec": {
   "display_name": "Python 2",
   "language": "python",
   "name": "python2"
  },
  "language_info": {
   "codemirror_mode": {
    "name": "ipython",
    "version": 2
   },
   "file_extension": ".py",
   "mimetype": "text/x-python",
   "name": "python",
   "nbconvert_exporter": "python",
   "pygments_lexer": "ipython2",
   "version": "2.7.9"
  }
 },
 "nbformat": 4,
 "nbformat_minor": 0
}
